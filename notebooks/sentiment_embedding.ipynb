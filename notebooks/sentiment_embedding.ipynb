{
 "cells": [
  {
   "cell_type": "code",
   "execution_count": 6,
   "metadata": {},
   "outputs": [
    {
     "name": "stdout",
     "output_type": "stream",
     "text": [
      "corpora contains 137052 words\n"
     ]
    }
   ],
   "source": [
    "#import libraries\n",
    "import re\n",
    "import numpy as np\n",
    "import pickle\n",
    "\n",
    "#load txt file\n",
    "txt_file = open(\"sentiment_embedding/sswe-u.txt\",\"r\")\n",
    "corpora = txt_file.read()\n",
    "\n",
    "print(\"corpora contains {} words\".format(corpora.count(\"\\n\")))\n",
    "\n",
    "corpora_split = corpora.split(\"\\n\")\n",
    "for word, data in enumerate(corpora_split):\n",
    "    corpora_split[word] = data.split(\"\\t\")"
   ]
  },
  {
   "cell_type": "code",
   "execution_count": 14,
   "metadata": {},
   "outputs": [],
   "source": [
    "#convert to dictionary\n",
    "def get_dict_corpora(list_of_lists):\n",
    "    \n",
    "    dictionary = {list_of_lists[0][0] : np.array(list_of_lists[0][1:])}\n",
    "    \n",
    "    for index in range(1,len(list_of_lists)):\n",
    "        dictionary[list_of_lists[index][0]] = np.array(list_of_lists[index][1:])\n",
    "                                                      \n",
    "    return dictionary\n",
    "                                                      \n",
    "corpora_dict = get_dict_corpora(corpora_split)"
   ]
  },
  {
   "cell_type": "code",
   "execution_count": 18,
   "metadata": {},
   "outputs": [],
   "source": [
    "#save as pickle\n",
    "file_to_write = open(\"sentiment_emb.pkl\", \"wb\")\n",
    "pickle.dump(corpora_dict, file_to_write)"
   ]
  },
  {
   "cell_type": "code",
   "execution_count": 3,
   "metadata": {},
   "outputs": [],
   "source": [
    "#load from pickle\n",
    "test = pickle.load(open(\"sentiment_emb.pkl\",\"rb\"))"
   ]
  }
 ],
 "metadata": {
  "kernelspec": {
   "display_name": "Python 3",
   "language": "python",
   "name": "python3"
  },
  "language_info": {
   "codemirror_mode": {
    "name": "ipython",
    "version": 3
   },
   "file_extension": ".py",
   "mimetype": "text/x-python",
   "name": "python",
   "nbconvert_exporter": "python",
   "pygments_lexer": "ipython3",
   "version": "3.6.2"
  }
 },
 "nbformat": 4,
 "nbformat_minor": 4
}
